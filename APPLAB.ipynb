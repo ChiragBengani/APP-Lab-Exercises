{
 "cells": [
  {
   "cell_type": "code",
   "execution_count": 1,
   "metadata": {},
   "outputs": [
    {
     "name": "stdout",
     "output_type": "stream",
     "text": [
      "Enter Subtotal:10\n",
      "EnterRate:15\n",
      "Gratuity: 1.5\n",
      "Total: 11.5\n"
     ]
    }
   ],
   "source": [
    "sub_total=int(input('Enter Subtotal:')) \n",
    "rate = int(input('EnterRate:')) \n",
    "gratuity=sub_total * (rate/100) \n",
    "total=sub_total+gratuity \n",
    "print(\"Gratuity:\",gratuity)\n",
    "print(\"Total:\",total)"
   ]
  },
  {
   "cell_type": "code",
   "execution_count": 1,
   "metadata": {},
   "outputs": [
    {
     "name": "stdout",
     "output_type": "stream",
     "text": [
      "Enter Number1200\n",
      "Reenter the number\n"
     ]
    }
   ],
   "source": [
    "def getSum(n):\n",
    "    sum = 0\n",
    "    while (n != 0):\n",
    "        sum = sum + int(n % 10)\n",
    "        n = int(n/10)\n",
    "    return sum\n",
    "n = int(input(\"Enter Number\"))\n",
    "if(n<1000):\n",
    "    print(getSum(n))\n",
    "else:\n",
    "\tprint(\"Reenter the number\")"
   ]
  },
  {
   "cell_type": "code",
   "execution_count": 2,
   "metadata": {},
   "outputs": [
    {
     "name": "stdout",
     "output_type": "stream",
     "text": [
      "Enter a three digit number: 655\n",
      "The lottery number is 553\n",
      "You have won $1,000!\n"
     ]
    }
   ],
   "source": [
    "import random\n",
    "#Gets user's guess.\n",
    "user = str(input(\"Enter a three digit number: \"))\n",
    "#Generate a random three digit number. \n",
    "randomNumber = str(random.randrange(100,1000))\n",
    "print(\"The lottery number is \" + randomNumber)\n",
    "#If the user's guess and generated number are the same they win 10k! \n",
    "if user == randomNumber:\n",
    "    print(\"You have won $10,000!\")\n",
    "else:\n",
    "# Make a list of the matching numbers.\n",
    "    matchNumbers = [x for x in user if x in randomNumber]\n",
    "# All numbers match, just not in the right order.\n",
    "if len(matchNumbers) == 3:\n",
    "    print(\"You have won $3,000!\")\n",
    "# Will return True if at least one number matched. \n",
    "elif matchNumbers:\n",
    "    print(\"You have won $1,000!\")\n",
    "# Nothing matched, they get nothing. \n",
    "else:\n",
    "    print(\"You Lose!\")"
   ]
  },
  {
   "cell_type": "code",
   "execution_count": 12,
   "metadata": {},
   "outputs": [
    {
     "name": "stdout",
     "output_type": "stream",
     "text": [
      "0 for Rock.\n",
      "1 for Scissors.\n",
      "2 for Paper.\n",
      "3 to exit.\n",
      "Enter your Choice:0\n",
      "0 for Rock.\n",
      "1 for Scissors.\n",
      "2 for Paper.\n",
      "3 to exit.\n",
      "Enter your Choice:1\n",
      "You win!Scissors cut Paper\n"
     ]
    }
   ],
   "source": [
    "from random import randint\n",
    "computer = randint(0,2)\n",
    "player = False\n",
    "while player == False:\n",
    "    player = int(input(\"0 for Rock.\\n1 for Scissors.\\n2 for Paper.\\n3 to exit.\\nEnter your Choice:\"))\n",
    "if player == computer: \n",
    "    print(\"Tie!\") \n",
    "    player = False\n",
    "elif player == 0: \n",
    "    player = False\n",
    "    if computer == 2:\n",
    "        print(\"You lose! Paper covers Rock\") \n",
    "    else:\n",
    "        print(\"You win! Rock smashes Scissors\") \n",
    "elif player == 2:\n",
    "    player = False\n",
    "    if computer == 1:\n",
    "        print(\"You lose! Scissors cut Paper\") \n",
    "    else:\n",
    "        print(\"You win!Paper covers Rock\") \n",
    "elif player == 1:\n",
    "    player = False\n",
    "    if computer == 0:\n",
    "        print(\"You lose! Rock smashes Scissors\") \n",
    "    else:\n",
    "        print(\"You win!Scissors cut Paper\") \n",
    "elif player == 3:\n",
    "    player = True\n",
    "    print(\"Thankyou for playing the game\") \n",
    "else:\n",
    "    print(\"That's not a valid play. Check your Number!\") \n",
    "player = False\n",
    "computer = randint(0,2)\n"
   ]
  },
  {
   "cell_type": "code",
   "execution_count": 16,
   "metadata": {},
   "outputs": [
    {
     "name": "stdout",
     "output_type": "stream",
     "text": [
      "Enter numbers: \n",
      "2\n",
      "3\n",
      "4\n",
      "5\n",
      "0\n",
      "The largest number is  5\n",
      "The occurrence count of the largest number is  1\n"
     ]
    }
   ],
   "source": [
    "print(\"Enter numbers: \")\n",
    "maxi = int(input())\t\n",
    "count = 1\t\t\n",
    "num =maxi\t\n",
    "while (num > 0):\n",
    "    num = int(input()) \n",
    "    if (num > maxi):\n",
    "        maxi = num \n",
    "        count = 1\n",
    "    elif(num == maxi): \n",
    "        count=count+1\n",
    "print(\"The largest number is \" ,maxi)\n",
    "print(\"The occurrence count of the largest number is \" , count)"
   ]
  },
  {
   "cell_type": "code",
   "execution_count": 19,
   "metadata": {},
   "outputs": [
    {
     "name": "stdout",
     "output_type": "stream",
     "text": [
      "Enter the number of rows 7\n",
      "      1 \n",
      "     212 \n",
      "    32123 \n",
      "   4321234 \n",
      "  543212345 \n",
      " 65432123456 \n",
      "7654321234567 \n"
     ]
    }
   ],
   "source": [
    "num = int(input(\"Enter the number of rows \"))\n",
    "for i in range(1,num+1):\n",
    "    for j in range(1,num-i+1):\n",
    "        print(end=\" \")\n",
    "    for j in range(i,0,-1):\n",
    "        print(j,end=\"\")\n",
    "    for j in range(2,i+1):\n",
    "        print(j,end=\"\")\n",
    "    print(\" \")"
   ]
  },
  {
   "cell_type": "code",
   "execution_count": 3,
   "metadata": {},
   "outputs": [
    {
     "name": "stdout",
     "output_type": "stream",
     "text": [
      "[20, 38, 200]\n"
     ]
    }
   ],
   "source": [
    "x = lambda z: 2*(z[0]+z[1]+z[2])\n",
    "y = [(3,5,2),(7,10,2),(81,16,3)]\n",
    "result = map(x,y[::1])\n",
    "print(list(result))"
   ]
  },
  {
   "cell_type": "code",
   "execution_count": 10,
   "metadata": {},
   "outputs": [
    {
     "name": "stdout",
     "output_type": "stream",
     "text": [
      "balanced\n"
     ]
    }
   ],
   "source": [
    "stack = []\n",
    "x = \"(2+4*[89-5(78+16)])-6\"\n",
    "for i in x:\n",
    "    if i ==\"{\" or i==\"[\" or i==\"(\":\n",
    "        stack.append(i)\n",
    "    elif i == \"}\":\n",
    "        if stack[len(stack)-1]== \"{\":\n",
    "            stack.pop()\n",
    "    elif i == \"]\":\n",
    "        if stack[len(stack)-1]== \"[\":\n",
    "            stack.pop()\n",
    "    elif i == \")\":\n",
    "        if stack[len(stack)-1]== \"(\":\n",
    "            stack.pop()\n",
    "            \n",
    "if len(stack)== 0:\n",
    "    print(\"balanced\")\n",
    "else:\n",
    "    print(\"unbalanced\")"
   ]
  },
  {
   "cell_type": "code",
   "execution_count": 12,
   "metadata": {},
   "outputs": [
    {
     "name": "stdout",
     "output_type": "stream",
     "text": [
      "Add an element for the tuple ? y/n :\n",
      "y\n",
      "Enter the tuple element:\n",
      "2,3,4\n",
      "Add an element for the tuple ? y/n :\n",
      "y\n",
      "Enter the tuple element:\n",
      "5,6,7\n",
      "Add an element for the tuple ? y/n :\n",
      "n\n",
      "[('2', '3', '4'), ('5', '6', '7')]\n"
     ]
    }
   ],
   "source": [
    "def createTupledList():\n",
    "    l=[]\n",
    "    print(\"Add an element for the tuple ? y/n :\")\n",
    "    ch=str(input())\n",
    "    while(ch=='y'):\n",
    "        print(\"Enter the tuple element:\")\n",
    "        i=input()\n",
    "        l.append(tuple(i.split(\",\")))\n",
    "        print(\"Add an element for the tuple ? y/n :\")\n",
    "        ch=str(input())\n",
    "    return l\n",
    "tuplist = createTupledList()\n",
    "def sort_tuple(lst):\n",
    "    return sorted(lst,key=lambda x:x[len(x)-1])\n",
    "print(sort_tuple(tuplist))"
   ]
  },
  {
   "cell_type": "code",
   "execution_count": 8,
   "metadata": {},
   "outputs": [
    {
     "name": "stdout",
     "output_type": "stream",
     "text": [
      "Please enter a number between 0 and 999:525\n",
      "Five-Hundred-Twenty-Five\n"
     ]
    }
   ],
   "source": [
    "num2words1 = {1:\"One\",2:\"Two\",3:\"Three\",4:\"Four\",5:\"Five\",\\\n",
    "             6:\"Six\",7:\"Seven\",8:\"Eight\",9:\"Nine\",10:\"Ten\",\\\n",
    "             11:\"Eleven\",12:\"Twelve\",13:\"Thirteen\",14:\"Fourteen\",\\\n",
    "             15:\"Fifteen\",16:\"Sixteen\",17:\"Seventeen\",18:\"Eighteen\",19:\"Nineteen\"}\n",
    "num2words2 = [\"Twenty\",\"Thirty\",\"Forty\",\"Fifty\",\"Sixty\",\"Seventy\",\"Eighty\",\"Ninety\"]\n",
    "def number(Number):\n",
    "    if 0 <= Number <= 19:\n",
    "        return num2words1[Number]\n",
    "    elif 20 <= Number <= 99:\n",
    "        tens, remainder = divmod(Number,10)\n",
    "        return num2words2[tens-2]+\"-\"+num2words1[remainder] if remainder else num2words2[tens-2]\n",
    "    elif 100<=Number<=999:\n",
    "        hund,rem=divmod(Number,100)\n",
    "        tens,remainder=divmod(rem,10)\n",
    "        return num2words1[hund]+\"-\"+\"Hundred\"+\"-\"+num2words2[tens-2]+\"-\"+num2words1[remainder] if remainder else num2words2[hund-2]\n",
    "    else:\n",
    "        print(\"Number out of bounds\")\n",
    "def main():\n",
    "    num=eval(input(\"Please enter a number between 0 and 999:\"))\n",
    "    print(number(num))\n",
    "main()"
   ]
  },
  {
   "cell_type": "code",
   "execution_count": 10,
   "metadata": {},
   "outputs": [
    {
     "name": "stdout",
     "output_type": "stream",
     "text": [
      "2,3\n"
     ]
    }
   ],
   "source": [
    "class py_solution:\n",
    "   def twoSum(self, nums, target):\n",
    "        lookup = {}\n",
    "        for i, num in enumerate(nums):\n",
    "            if target - num in lookup:\n",
    "                return (lookup[target - num], i )\n",
    "            lookup[num] = i\n",
    "print(\"%d,%d\" % py_solution().twoSum((10,20,10,40,50,60,70),50))"
   ]
  },
  {
   "cell_type": "code",
   "execution_count": 1,
   "metadata": {},
   "outputs": [
    {
     "name": "stdout",
     "output_type": "stream",
     "text": [
      "Enter your old salary per month: 20000\n",
      "After hike your present salary per month is:  22000.0\n"
     ]
    }
   ],
   "source": [
    "oldSalaryPerMonth = int(input(\"Enter your old salary per month: \"))\n",
    "presentSalaryPerMonth = oldSalaryPerMonth + (oldSalaryPerMonth * 10/100)\n",
    "print(\"After hike your present salary per month is: \", presentSalaryPerMonth)"
   ]
  },
  {
   "cell_type": "code",
   "execution_count": 3,
   "metadata": {},
   "outputs": [
    {
     "name": "stdout",
     "output_type": "stream",
     "text": [
      ".py hello\n"
     ]
    }
   ],
   "source": [
    "class py_solution:\n",
    "    def reverse_words(self, s):\n",
    "        return ' '.join(reversed(s.split()))\n",
    "print(py_solution().reverse_words('hello .py'))"
   ]
  },
  {
   "cell_type": "code",
   "execution_count": 4,
   "metadata": {},
   "outputs": [
    {
     "name": "stdout",
     "output_type": "stream",
     "text": [
      "Input Radius: 7\n",
      "circumference: 43.96\n",
      "Input Length: 1\n",
      "Input Breadth: 1\n",
      "perimeter:  4\n"
     ]
    }
   ],
   "source": [
    "class Circle:\n",
    "    def __init__(self,r):\n",
    "        print(\"circumference:\",2*3.14*r)\n",
    "class Rectangle:\n",
    "    def __init__(self,a,b):\n",
    "        print(\"perimeter: \",2*(a+b))\n",
    "c = Circle(int(input(\"Input Radius: \")))\n",
    "d = Rectangle(int(input(\"Input Length: \")),int(input(\"Input Breadth: \")))"
   ]
  },
  {
   "cell_type": "code",
   "execution_count": 4,
   "metadata": {},
   "outputs": [
    {
     "name": "stdout",
     "output_type": "stream",
     "text": [
      "matt\n",
      "Holt   Grey\n",
      "Dolt   Siberian\n"
     ]
    }
   ],
   "source": [
    "class Animal:\n",
    "    def __init__(self,x):\n",
    "        self.x=x\n",
    "class Dog(Animal):\n",
    "    def __init__(self,x,color):\n",
    "        super().__init__(x)\n",
    "        self.color=color\n",
    "class Cat(Animal):\n",
    "    def __init__(self,x,breed):\n",
    "        super().__init__(x)\n",
    "        self.breed=breed\n",
    "x = Animal(\"matt\")\n",
    "y = Dog(\"Holt\",\"Grey\")\n",
    "z = Cat(\"Dolt\",\"Siberian\")\n",
    "print(x.x)\n",
    "print(y.x,\" \",y.color)\n",
    "print(z.x,\" \",z.breed)"
   ]
  },
  {
   "cell_type": "code",
   "execution_count": 3,
   "metadata": {},
   "outputs": [],
   "source": [
    "from tkinter import *\n",
    "import tkinter as tk\n",
    "from tkinter import ttk\n",
    "from tkinter import filedialog\n",
    "import os\n",
    "\n",
    "window = Tk()\n",
    "window.title(\"Information\")\n",
    "window.geometry(\"{0}x{0}+0+0\".format(window.winfo_screenwidth(), window.winfo_screenheight()))\n",
    "Label(window,text=\"Job Application\",font=('Arial 28 bold'),fg=\"black\").place(relx=0.5, rely=0.03,anchor=CENTER)\n",
    "Label(window,text=\"Personal Information\", font=\"Arial 16 bold\",fg=\"red\").grid(row=1,column=1,pady=(80,20))\n",
    "Label(window,text=\"Name: \", font=\"Arial 14\").grid(row=2,column=1)\n",
    "\n",
    "def Submit():\n",
    "    window.destroy()\n",
    "\n",
    "    #opening second window\n",
    "    window2 = Tk()\n",
    "    window2.title(\"Information Submitted\")\n",
    "    window2.geometry(\"{0}x{0}+0+0\".format(window2.winfo_screenwidth(), window2.winfo_screenheight()))\n",
    "\n",
    "    #window2 Content\n",
    "    #window2 Content\n",
    "    Label(window2,text=\"Information Submitted,Thank You!\",font='Helvetica', padx=10, pady=20,bg=\"black\", fg=\"white\").place(relx=0.5, rely=0.5, anchor=CENTER)\n",
    "    Label(window2,text=\"Made By Chirag Bengani\",font='Helvetica', padx=11, pady=22,bg=\"black\", fg=\"white\").place(relx=0.44, rely=0.56)\n",
    "    \n",
    "text1 = Entry(window,width=40)\n",
    "text1.insert(0,'First Name')\n",
    "text1.grid(row=2,column=2)\n",
    " \n",
    "text2 = Entry(window,width=40)\n",
    "text2.insert(0,'Last Name')\n",
    "text2.grid(row=2,column=3,padx=(20,0))\n",
    "Label(window,text=\"Email: \", font=\"Arial 14\").grid(row=3,column=1)\n",
    " \n",
    "text3 = Entry(window,width=40)\n",
    "text3.insert(0,'user@example.com')\n",
    "text3.grid(row=3,column=2,)\n",
    "\n",
    "Label(window,text=\"Education: \", font=\"Arial 14\").grid(row=4,column=1)\n",
    "dropdown1 = tk.StringVar(value=\"Please Choose\") \n",
    "education_chosen = ttk.Combobox(window,width=37,textvariable=dropdown1,state=\"readonly\") \n",
    "  \n",
    "# Adding combobox drop down list \n",
    "education_chosen['values'] = (' Primary School',  \n",
    "                          ' Secondary School', \n",
    "                          ' Higher-Secondary School', \n",
    "                          \" Undergraduate/Bachelor's\", \n",
    "                          \" Postgraduate/Master's\", \n",
    "                          ' Doctoral/Ph.D') \n",
    "  \n",
    "education_chosen.grid(row=4,column=2) \n",
    "education_chosen.current() \n",
    "Label(window,text=\"Resume:\",font=\"Arial 14\").grid(row=5,column=1)\n",
    "def UploadAction(event=None):\n",
    "    path = filedialog.askopenfilename(filetypes =[('PDF Files', '.pdf'),('DOC Files','.docx')])\n",
    "    if path: \n",
    "        filename = os.path.basename(path)\n",
    "        Label(window,text=\"Selected File is: \", font=\"Arial 12\",fg=\"red\").grid(row=5,column=3)\n",
    "        Label(window,text=filename, font=\"Arial 12\",fg=\"black\").place(x=850,y=215)\n",
    "    else:\n",
    "        Label(window,text=\"File Not Selected!\", font=\"Arial 14\",fg=\"red\").grid(row=5,column=3)\n",
    "\n",
    "button = tk.Button(window, text='Upload File',width=34,command=UploadAction).grid(row=5,column=2)\n",
    "Label(window,text=\"Address: \",font=\"Arial 14\").grid(row=6,column=1)\n",
    "\n",
    "text4 = Entry(window,width=40)\n",
    "text4.insert(0,'Address 1')\n",
    "text4.grid(row=6,column=2)\n",
    "\n",
    "text5 = Entry(window,width=40)\n",
    "text5.insert(0,'Address 2')\n",
    "text5.grid(row=7,column=2)\n",
    "\n",
    "dropdown2 = tk.StringVar(value=\"Select a Country\") \n",
    "country_chosen = ttk.Combobox(window,width=20,textvariable=dropdown2,state=\"readonly\") \n",
    "  \n",
    "# Adding combobox drop down list \n",
    "country_chosen['values'] = (' India',  \n",
    "                          ' UK', \n",
    "                          ' USA', \n",
    "                          \" CANADA\", \n",
    "                          \" Germany\", \n",
    "                          ' Austria') \n",
    "country_chosen.grid(row=8,column=2) \n",
    "country_chosen.current()\n",
    "\n",
    "text6 = Entry(window,width=15)\n",
    "text6.insert(0,'CITY')\n",
    "text6.grid(row=9,column=2,padx=(1,0))\n",
    "\n",
    "text7 = Entry(window,width=5)\n",
    "text7.insert(0,'STATE')\n",
    "text7.grid(row=9,column=3,padx=(1,0))\n",
    "\n",
    "text8 = Entry(window,width=20)\n",
    "text8.insert(0,'ZIP CODE')\n",
    "text8.grid(row=9,column=4,padx=(1,0))\n",
    "\n",
    "Label(window,text=\"Phone Number: \",font=\"Arial 14\").grid(row=10,column=1)\n",
    "text9 = Entry(window,width=4).grid(row=10,column=2,padx=(0,150))\n",
    "text10 = Entry(window,width=20).grid(row=10,column=2)\n",
    "\n",
    "Label(window,text=\"What are your hobbies?\",font=\"Arial 14\").grid(row=11,column=3)\n",
    "text11 = Text(window,width=30,height=2).grid(row=11,column=4)\n",
    "\n",
    "Label(window,text=\"Previous/Current Employment Details\", font=\"Arial 16 bold\",fg=\"red\").grid(row=9,column=1,pady=(100,20))\n",
    "\n",
    "Label(window,text=\"Company Name: \",font=\"Arial 14\").grid(row=10,column=1)\n",
    "text12 = Entry(window,width=40).grid(row=10,column=2)\n",
    "\n",
    "Label(window,text=\"Job Title: \",font=\"Arial 14\").grid(row=11,column=1)\n",
    "text13 = Entry(window,width=40).grid(row=11,column=2)\n",
    "\n",
    "Label(window,text=\"How long were you here?: \",font=\"Arial 14\").grid(row=12,column=1)\n",
    "text14 = Entry(window,width=40).grid(row=12,column=2)\n",
    "\n",
    "\n",
    "Label(window,text=\"Reference #1\", font=\"Arial 16 bold\",fg=\"red\").grid(row=13,column=1,pady=(10,10))\n",
    "\n",
    "Label(window,text=\"Name: \",font=\"Arial 14\").grid(row=14,column=1)\n",
    "text15 = Entry(window,width=40).grid(row=14,column=2)\n",
    "\n",
    "Label(window,text=\"Phone: \",font=\"Arial 14\").grid(row=15,column=1)\n",
    "text16 = Entry(window,width=40).grid(row=15,column=2)\n",
    "\n",
    "Label(window,text=\"Reference #2\", font=\"Arial 16 bold\",fg=\"red\").grid(row=16,column=1,pady=(10,10))\n",
    "\n",
    "Label(window,text=\"Name: \",font=\"Arial 14\").grid(row=17,column=1)\n",
    "text17 = Entry(window,width=40).grid(row=17,column=2)\n",
    "\n",
    "Label(window,text=\"Phone: \",font=\"Arial 14\").grid(row=18,column=1)\n",
    "text18 = Entry(window,width=40).grid(row=18,column=2)\n",
    "\n",
    "button_1 = Button(window, text=\"SUBMIT\", padx=10, pady=5, command=lambda: Submit(), bg=\"black\", fg=\"white\").grid(row=19,column=3)\n",
    "\n",
    "\n",
    "\n",
    "\n",
    "window.mainloop()"
   ]
  },
  {
   "cell_type": "code",
   "execution_count": 2,
   "metadata": {},
   "outputs": [],
   "source": [
    "import tkinter as tk\n",
    "from tkinter import*\n",
    "from tkinter.ttk import*\n",
    "from tkinter import ttk\n",
    "\n",
    "def browsefunc():\n",
    "    filename = filedialog.askopenfilename()\n",
    "    pathlabel.config(text=filename)    \n",
    "\n",
    "root = tk.Tk()\n",
    "root.geometry('500x500')\n",
    "root.title(\"Job application\")\n",
    "\n",
    "ttk.Label(root, text = \"Job Application\",font = (\"bold\", 40)).grid(row = 0,column=0,columnspan=3,pady=2) \n",
    "ttk.Label(root, text = \"Personal Information\",foreground=\"brown\",font = (\"bold\", 20)).grid(row = 1,column=0,pady=2,sticky=W) \n",
    "ttk.Label(root, text = \"Name\",font = (\"bold\", 10)).grid(row = 2,column=0,pady=2,sticky=W) \n",
    "ttk.Label(root, text = \"Email\",font = (\"bold\", 10)).grid(row = 3,column=0,pady=2,sticky=W) \n",
    "ttk.Label(root, text = \"Education\",font = (\"bold\", 10)).grid(row = 4,column=0,pady=2,sticky=W) \n",
    "ttk.Label(root, text = \"Resume\",font = (\"bold\", 10)).grid(row = 5,column=0,pady=2,sticky=W)\n",
    "ttk.Label(root, text = \"Address\",font = (\"bold\", 10)).grid(row = 6,column=0,pady=2,sticky=W)\n",
    "ttk.Label(root, text = \"Phone Number\",font = (\"bold\", 10)).grid(row = 10,column=0,pady=2,sticky=W)\n",
    "ttk.Label(root, text = \"What are your hobbies?\",font = (\"bold\", 10)).grid(row = 11,column=0,pady=2,sticky=W)\n",
    "ttk.Label(root, text = \"Previous/Current Employment details\",foreground=\"brown\",font = (\"bold\", 20)).grid(row = 13,column=0,pady=2,sticky=W)\n",
    "ttk.Label(root, text = \"Company Name\",font = (\"bold\", 10)).grid(row = 14,column=0,pady=2,sticky=W)\n",
    "ttk.Label(root, text = \"Job Title\",font = (\"bold\", 10)).grid(row = 15,column=0,pady=2,sticky=W)\n",
    "ttk.Label(root, text = \"How long were you here?\",font = (\"bold\", 10)).grid(row = 16,column=0,pady=2,sticky=W)\n",
    "ttk.Label(root, text = \"Reference #1\",foreground=\"brown\",font = (\"bold\", 10)).grid(row = 17,column=0,pady=2,sticky=W)\n",
    "ttk.Label(root, text = \"Name\",font = (\"bold\", 10)).grid(row = 18,column=0,pady=2,sticky=W)\n",
    "ttk.Label(root, text = \"Phone\",font = (\"bold\", 10)).grid(row = 19,column=0,pady=2,sticky=W)\n",
    "ttk.Label(root, text = \"Reference #2\",foreground=\"brown\",font = (\"bold\", 10)).grid(row = 20,column=0,pady=2,sticky=W)\n",
    "ttk.Label(root, text = \"Name\",font = (\"bold\", 10)).grid(row = 21,column=0,pady=2,sticky=W)\n",
    "ttk.Label(root, text = \"Phone\",font = (\"bold\", 10)).grid(row = 22,column=0,pady=2,sticky=W)\n",
    "e1=tk.Entry(root,width=30)\n",
    "e1.insert(0,'First name')\n",
    "e2=tk.Entry(root,width=30)\n",
    "e2.insert(0,'Last name')\n",
    "e3=tk.Entry(root,width=60)\n",
    "e3.insert(0,'user@example.com')\n",
    "e4=tk.Entry(root,width=60)\n",
    "e5=tk.Entry(root,width=60)\n",
    "e6=tk.Entry(root,width=20)\n",
    "e7=tk.Entry(root,width=20)\n",
    "e8=tk.Entry(root,width=20)\n",
    "e9=tk.Entry(root,width=30)\n",
    "e10=tk.Entry(root,width=30)\n",
    "e11=tk.Entry(root,width=180)\n",
    "e12=tk.Entry(root,width=30)\n",
    "e13=tk.Entry(root,width=30)\n",
    "e14=tk.Entry(root,width=30)\n",
    "e15=tk.Entry(root,width=30)\n",
    "e16=tk.Entry(root,width=30)\n",
    "e17=tk.Entry(root,width=30)\n",
    "e18=tk.Entry(root,width=30)\n",
    "e1.grid(row=2,column=1,pady=2,sticky=W)\n",
    "e2.grid(row=2,column=2,pady=2,sticky=W)\n",
    "e3.grid(row=3,column=1,columnspan=2,pady=2,sticky=W)\n",
    "e4.grid(row=6,column=1,columnspan=2,pady=2,sticky=W)\n",
    "e5.grid(row=7,column=1,columnspan=2,pady=2,sticky=W)\n",
    "e6.grid(row=9,column=1,pady=2,sticky=W)\n",
    "e7.grid(row=9,column=2,pady=2,sticky=W)\n",
    "e8.grid(row=9,column=3,pady=2,sticky=W)\n",
    "e9.grid(row=10,column=1,pady=2,sticky=W)\n",
    "e10.grid(row=10,column=2,pady=2,sticky=W)\n",
    "e11.grid(row=12,column=0,columnspan=4,pady=2,sticky=W)\n",
    "e12.grid(row=14,column=1,pady=2,sticky=W)\n",
    "e13.grid(row=15,column=1,pady=2,sticky=W)\n",
    "e14.grid(row=16,column=1,pady=2,sticky=W)\n",
    "e15.grid(row=18,column=1,pady=2,sticky=W)\n",
    "e16.grid(row=19,column=1,pady=2,sticky=W)\n",
    "e17.grid(row=21,column=1,pady=2,sticky=W)\n",
    "e18.grid(row=22,column=1,pady=2,sticky=W)\n",
    "\n",
    "var = tk.StringVar() \n",
    "var.set('Please choose')\n",
    "choose=ttk.Combobox(root,width=57,textvariable=var)\n",
    "choose['values']=('12th pass','B.Tech','M.Tech','BS','MS','PhD')\n",
    "choose.grid(row=4,column=1,columnspan=2,sticky=W)\n",
    "choose.current()\n",
    "\n",
    "r = tk.StringVar() \n",
    "r.set('Select a Country')\n",
    "choose=ttk.Combobox(root,width=57,textvariable=r)\n",
    "choose['values']=('America','Russia','Germany','India','Indonesia','China','Japan')\n",
    "choose.grid(row=8,column=1,columnspan=2,sticky=W)\n",
    "choose.current()\n",
    "\n",
    "btn = Button(root,width=57, text ='Choose file', command = browsefunc) \n",
    "btn.grid(row=5,column=1,columnspan=2,sticky=W) \n",
    "pathlabel=Label(root)\n",
    "pathlabel.grid(row=5,column=1,columnspan=2,sticky=W)\n",
    "\n",
    "Button(root, text='Apply',width=20).place(x=180,y=640)\n",
    "root.mainloop()"
   ]
  },
  {
   "cell_type": "code",
   "execution_count": null,
   "metadata": {},
   "outputs": [],
   "source": []
  }
 ],
 "metadata": {
  "kernelspec": {
   "display_name": "Python 3",
   "language": "python",
   "name": "python3"
  },
  "language_info": {
   "codemirror_mode": {
    "name": "ipython",
    "version": 3
   },
   "file_extension": ".py",
   "mimetype": "text/x-python",
   "name": "python",
   "nbconvert_exporter": "python",
   "pygments_lexer": "ipython3",
   "version": "3.7.4"
  }
 },
 "nbformat": 4,
 "nbformat_minor": 2
}
